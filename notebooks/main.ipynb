{
 "cells": [
  {
   "cell_type": "code",
   "execution_count": null,
   "metadata": {},
   "outputs": [],
   "source": [
    "import sqlite3\n",
    "import pandas as pd\n",
    "import matplotlib.pyplot as plt\n",
    "\n",
    "# Sample data\n",
    "data = pd.DataFrame({\n",
    "    \"Customer\": [\"A\", \"B\", \"C\", \"A\", \"B\"],\n",
    "    \"Product\": [\"Shoes\", \"Shoes\", \"Bag\", \"Bag\", \"Shoes\"],\n",
    "    \"Price\": [50, 50, 100, 100, 50],\n",
    "    \"Quantity\": [1, 2, 1, 2, 1],\n",
    "    \"Country\": [\"UK\", \"UK\", \"US\", \"UK\", \"US\"]\n",
    "})\n",
    "\n",
    "# Load into SQLite\n",
    "conn = sqlite3.connect(\"retail.db\")\n",
    "data.to_sql(\"sales\", conn, if_exists=\"replace\", index=False)\n",
    "\n",
    "# Query example\n",
    "query = \"SELECT Product, SUM(Price*Quantity) as TotalSales FROM sales GROUP BY Product\"\n",
    "df = pd.read_sql(query, conn)\n",
    "print(df)\n",
    "\n",
    "# Bar chart\n",
    "df.plot(kind=\"bar\", x=\"Product\", y=\"TotalSales\", legend=False)\n",
    "plt.title(\"Total Sales by Product\")\n",
    "plt.ylabel(\"Sales ($)\")\n",
    "plt.show()"
   ]
  }
 ],
 "metadata": {
  "kernelspec": {
   "display_name": "Python 3",
   "language": "python",
   "name": "python3"
  },
  "language_info": {
   "name": "python",
   "version": "3.8"
  }
 },
 "nbformat": 4,
 "nbformat_minor": 2
}
